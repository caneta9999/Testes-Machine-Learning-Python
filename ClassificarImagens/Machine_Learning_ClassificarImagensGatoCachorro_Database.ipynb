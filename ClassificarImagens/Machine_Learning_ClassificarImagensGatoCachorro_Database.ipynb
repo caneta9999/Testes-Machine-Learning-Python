{
 "cells": [
  {
   "cell_type": "code",
   "execution_count": 1,
   "metadata": {
    "id": "GJO0LN11zJGR"
   },
   "outputs": [],
   "source": [
    "import cv2\n",
    "import numpy as np"
   ]
  },
  {
   "cell_type": "code",
   "execution_count": 2,
   "metadata": {},
   "outputs": [],
   "source": [
    "X_train = []\n",
    "X_test = []\n",
    "y_train = []\n",
    "y_test = []\n",
    "# gato 0 cachorro 1\n",
    "for i in range(4000):\n",
    "    X = cv2.imread('.\\\\archive\\\\training_set\\\\training_set\\\\cats\\\\cat.' + str(i+1) + '.jpg')\n",
    "    X = cv2.resize(X, (120,120))\n",
    "    X = cv2.cvtColor(X, cv2.COLOR_BGR2GRAY)\n",
    "    X_train.append(X)\n",
    "    y_train.append(0)\n",
    "for i in range(4000):\n",
    "    X = cv2.imread('.\\\\archive\\\\training_set\\\\training_set\\\\dogs\\\\dog.' + str(i+1) + '.jpg')\n",
    "    X = cv2.resize(X, (120,120))\n",
    "    X = cv2.cvtColor(X, cv2.COLOR_BGR2GRAY)\n",
    "    X_train.append(X)\n",
    "    y_train.append(1)\n",
    "for i in range(1000):\n",
    "    X = cv2.imread('.\\\\archive\\\\test_set\\\\test_set\\\\cats\\\\cat.' + str(4000+i+1) + '.jpg')\n",
    "    X = cv2.resize(X, (120,120))\n",
    "    X = cv2.cvtColor(X, cv2.COLOR_BGR2GRAY)\n",
    "    X_test.append(X)\n",
    "    y_test.append(0)\n",
    "for i in range(1000):\n",
    "    X = cv2.imread('.\\\\archive\\\\test_set\\\\test_set\\\\dogs\\\\dog.' + str(4000+i+1) + '.jpg')\n",
    "    X = cv2.resize(X, (120,120))\n",
    "    X = cv2.cvtColor(X, cv2.COLOR_BGR2GRAY)\n",
    "    X_test.append(X)\n",
    "    y_test.append(1)"
   ]
  },
  {
   "cell_type": "code",
   "execution_count": 3,
   "metadata": {},
   "outputs": [],
   "source": [
    "from sklearn.svm import SVC\n",
    "svc = SVC()"
   ]
  },
  {
   "cell_type": "code",
   "execution_count": 6,
   "metadata": {},
   "outputs": [
    {
     "data": {
      "text/plain": [
       "8000"
      ]
     },
     "execution_count": 6,
     "metadata": {},
     "output_type": "execute_result"
    }
   ],
   "source": [
    "len(X_train)"
   ]
  },
  {
   "cell_type": "code",
   "execution_count": 7,
   "metadata": {},
   "outputs": [
    {
     "data": {
      "text/plain": [
       "8000"
      ]
     },
     "execution_count": 7,
     "metadata": {},
     "output_type": "execute_result"
    }
   ],
   "source": [
    "len(y_train)"
   ]
  },
  {
   "cell_type": "code",
   "execution_count": 9,
   "metadata": {},
   "outputs": [
    {
     "data": {
      "text/plain": [
       "SVC()"
      ]
     },
     "execution_count": 9,
     "metadata": {},
     "output_type": "execute_result"
    }
   ],
   "source": [
    "y_train = np.array(y_train).reshape(-1)\n",
    "X_train = np.array(X_train, dtype=object).reshape(len(y_train), -1)\n",
    "svc.fit(X_train,y_train)"
   ]
  },
  {
   "cell_type": "code",
   "execution_count": 10,
   "metadata": {},
   "outputs": [],
   "source": [
    "y_test = np.array(y_test).reshape(-1)\n",
    "X_test = np.array(X_test).reshape(len(y_test),-1)\n",
    "previsoes = svc.predict(X_test)\n",
    "previsoes = np.array(previsoes).reshape(-1)"
   ]
  },
  {
   "cell_type": "code",
   "execution_count": 12,
   "metadata": {},
   "outputs": [
    {
     "data": {
      "text/plain": [
       "2000"
      ]
     },
     "execution_count": 12,
     "metadata": {},
     "output_type": "execute_result"
    }
   ],
   "source": [
    "len(previsoes)"
   ]
  },
  {
   "cell_type": "code",
   "execution_count": 13,
   "metadata": {
    "scrolled": true
   },
   "outputs": [
    {
     "data": {
      "text/plain": [
       "0.6535"
      ]
     },
     "execution_count": 13,
     "metadata": {},
     "output_type": "execute_result"
    }
   ],
   "source": [
    "from sklearn.metrics import accuracy_score\n",
    "accuracy_score(previsoes, y_test)"
   ]
  },
  {
   "cell_type": "code",
   "execution_count": 10,
   "metadata": {},
   "outputs": [
    {
     "data": {
      "text/plain": [
       "0.501"
      ]
     },
     "execution_count": 10,
     "metadata": {},
     "output_type": "execute_result"
    }
   ],
   "source": [
    "from sklearn.neural_network import MLPClassifier\n",
    "neuralnetwork = MLPClassifier()\n",
    "y_train = np.array(y_train).reshape(-1)\n",
    "X_train = np.array(X_train).reshape(len(y_train),-1)\n",
    "neuralnetwork.fit(X_train,y_train)\n",
    "previsoes = neuralnetwork.predict(np.array(X_test).reshape(len(X_test),-1))\n",
    "accuracy_score(previsoes, y_test)"
   ]
  },
  {
   "cell_type": "code",
   "execution_count": 12,
   "metadata": {},
   "outputs": [],
   "source": [
    "import pickle"
   ]
  },
  {
   "cell_type": "code",
   "execution_count": 14,
   "metadata": {},
   "outputs": [],
   "source": [
    "pickle.dump(svc, open('svc.sav', 'wb'))\n",
    "svcCarregado = pickle.load(open('svc.sav', 'rb'))"
   ]
  },
  {
   "cell_type": "code",
   "execution_count": 11,
   "metadata": {},
   "outputs": [],
   "source": [
    "pickle.dump(neuralnetwork, open('neuralnetwork.sav','wb'))"
   ]
  },
  {
   "cell_type": "code",
   "execution_count": 1,
   "metadata": {},
   "outputs": [],
   "source": [
    "import numpy as np\n",
    "import cv2"
   ]
  },
  {
   "cell_type": "code",
   "execution_count": 9,
   "metadata": {},
   "outputs": [],
   "source": [
    "X_train = []\n",
    "X_test = []\n",
    "y_train = []\n",
    "y_test = []\n",
    "# gato 0 cachorro 1\n",
    "for i in range(100):\n",
    "    X = cv2.imread('.\\\\archive\\\\training_set\\\\training_set\\\\cats\\\\cat.' + str(i+1) + '.jpg')\n",
    "    X = cv2.resize(X, (300,300))\n",
    "    X = cv2.cvtColor(X, cv2.COLOR_BGR2GRAY)\n",
    "    X_train.append(X)\n",
    "    y_train.append(0)\n",
    "for i in range(100):\n",
    "    X = cv2.imread('.\\\\archive\\\\training_set\\\\training_set\\\\dogs\\\\dog.' + str(i+1) + '.jpg')\n",
    "    X = cv2.resize(X, (300,300))\n",
    "    X = cv2.cvtColor(X, cv2.COLOR_BGR2GRAY)\n",
    "    X_train.append(X)\n",
    "    y_train.append(1)\n",
    "for i in range(100):\n",
    "    X = cv2.imread('.\\\\archive\\\\test_set\\\\test_set\\\\cats\\\\cat.' + str(4000+i+1) + '.jpg')\n",
    "    X = cv2.resize(X, (300,300))\n",
    "    X = cv2.cvtColor(X, cv2.COLOR_BGR2GRAY)\n",
    "    X_test.append(X)\n",
    "    y_test.append(0)\n",
    "for i in range(100):\n",
    "    X = cv2.imread('.\\\\archive\\\\test_set\\\\test_set\\\\dogs\\\\dog.' + str(4000+i+1) + '.jpg')\n",
    "    X = cv2.resize(X, (300,300))\n",
    "    X = cv2.cvtColor(X, cv2.COLOR_BGR2GRAY)\n",
    "    X_test.append(X)\n",
    "    y_test.append(1)"
   ]
  },
  {
   "cell_type": "code",
   "execution_count": 10,
   "metadata": {},
   "outputs": [],
   "source": [
    "from sklearn.svm import SVC\n",
    "svc = SVC()\n",
    "from sklearn.neural_network import MLPClassifier\n",
    "neuralnetwork = MLPClassifier()"
   ]
  },
  {
   "cell_type": "code",
   "execution_count": 11,
   "metadata": {},
   "outputs": [
    {
     "data": {
      "text/plain": [
       "MLPClassifier()"
      ]
     },
     "execution_count": 11,
     "metadata": {},
     "output_type": "execute_result"
    }
   ],
   "source": [
    "y_train = np.array(y_train).reshape(-1)\n",
    "X_train = np.array(X_train, dtype=object).reshape(len(y_train), -1)\n",
    "svc.fit(X_train,y_train)\n",
    "neuralnetwork.fit(X_train,y_train)"
   ]
  },
  {
   "cell_type": "code",
   "execution_count": 12,
   "metadata": {},
   "outputs": [],
   "source": [
    "y_test = np.array(y_test).reshape(-1)\n",
    "X_test = np.array(X_test).reshape(len(y_test),-1)\n",
    "previsoes = svc.predict(X_test)\n",
    "previsoes = np.array(previsoes).reshape(-1)\n",
    "previsoes2 = neuralnetwork.predict(X_test)\n",
    "previsoes2 = np.array(previsoes2).reshape(-1)"
   ]
  },
  {
   "cell_type": "code",
   "execution_count": 13,
   "metadata": {},
   "outputs": [
    {
     "data": {
      "text/plain": [
       "0.54"
      ]
     },
     "execution_count": 13,
     "metadata": {},
     "output_type": "execute_result"
    }
   ],
   "source": [
    "from sklearn.metrics import accuracy_score\n",
    "accuracy_score(previsoes, y_test)"
   ]
  },
  {
   "cell_type": "code",
   "execution_count": 14,
   "metadata": {},
   "outputs": [
    {
     "data": {
      "text/plain": [
       "0.5"
      ]
     },
     "execution_count": 14,
     "metadata": {},
     "output_type": "execute_result"
    }
   ],
   "source": [
    "accuracy_score(previsoes2, y_test)"
   ]
  }
 ],
 "metadata": {
  "colab": {
   "name": "Untitled0.ipynb",
   "provenance": []
  },
  "kernelspec": {
   "display_name": "Python 3 (ipykernel)",
   "language": "python",
   "name": "python3"
  },
  "language_info": {
   "codemirror_mode": {
    "name": "ipython",
    "version": 3
   },
   "file_extension": ".py",
   "mimetype": "text/x-python",
   "name": "python",
   "nbconvert_exporter": "python",
   "pygments_lexer": "ipython3",
   "version": "3.9.7"
  }
 },
 "nbformat": 4,
 "nbformat_minor": 1
}
